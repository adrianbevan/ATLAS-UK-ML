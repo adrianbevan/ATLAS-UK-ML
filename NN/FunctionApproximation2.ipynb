{
 "cells": [
  {
   "cell_type": "markdown",
   "metadata": {},
   "source": [
    "# TensorFlow: Function Approximation Example 2 (Multi-Layer Perceptron)\n",
    "\n",
    "_This example was originally written for the Practical Machine Learning Summer School developed by Adrian Bevan (a.j.bevan@qmul.ac.uk) for Queen Mary University of London (C) 2018 and has been modified for the ATLAS UK Machine Learning Tutorial (Jan 2019)._\n",
    "\n",
    "This is an example for using TensorFlow machine learning.  A single layer perceptron is used to learn the function $y = x^2$.  This jupyter notebook uses an L2 loss function and allows the user to specify some range $x \\in [min\\_x, max\\_x]$ for plotting.  Test and train samples of events will be created and the network will be trained and evaluated as a function of training epoch.\n",
    "\n",
    "The purpose is to illustrate the application of a neural network to learning y=f(x) with a single dimensional input feature space resulting in a regression output for a single dimensional output feature space.  The network has a specified number of nodes, each uses a Rectified Linear Unit (ReLU) activation function.  This activation function is given by \n",
    "\n",
    " $f = \\max(0, w x) + b$\n",
    "\n",
    "where $w$ is the weight and $b$ the bias parameter.  The neural network configuration is for a multilayer perceptron, set up with one input, 2 layers of 50 nodes and one output.  \n",
    "\n",
    "We will use three Python libraries for this example: numpy, tensorflow and matplotlib.  In addition to the network weights (also known as model hyperparmeters) we have the following hyperparameters related to the optimisation of the network:\n",
    "\n",
    " * __learning_rate__ - this is the step size for the gradient descent optimisation process that is used (we will use the ADAM optimiser for this example).  The smaller the step size the longer it will take for the optimisation process to converge. The larger the step size the quicker to converge - up to a point.  The gradient descent algorothm is derived assuming that the step size is sufficiently small so as to guarantee a reduction inthe rate.  Try changing this parameter by a factor of 10 or more in either direction (so down to 0.001 and up to 0.1) to see what happens.\n",
    " * __training_epochs__ - this is the number of gradient descent optimisation steps taken.  \n",
    " \n",
    " Other parameter related to the problem include the range parameters (noted above) initially set to $[min\\_x, max\\_x] = [-10, 10]$ and Ngen, the number of training examples to generate.\n",
    " "
   ]
  },
  {
   "cell_type": "code",
   "execution_count": 1,
   "metadata": {},
   "outputs": [
    {
     "name": "stderr",
     "output_type": "stream",
     "text": [
      "/Users/bevan/anaconda3/lib/python3.7/site-packages/tensorflow/python/framework/dtypes.py:516: FutureWarning: Passing (type, 1) or '1type' as a synonym of type is deprecated; in a future version of numpy, it will be understood as (type, (1,)) / '(1,)type'.\n",
      "  _np_qint8 = np.dtype([(\"qint8\", np.int8, 1)])\n",
      "/Users/bevan/anaconda3/lib/python3.7/site-packages/tensorflow/python/framework/dtypes.py:517: FutureWarning: Passing (type, 1) or '1type' as a synonym of type is deprecated; in a future version of numpy, it will be understood as (type, (1,)) / '(1,)type'.\n",
      "  _np_quint8 = np.dtype([(\"quint8\", np.uint8, 1)])\n",
      "/Users/bevan/anaconda3/lib/python3.7/site-packages/tensorflow/python/framework/dtypes.py:518: FutureWarning: Passing (type, 1) or '1type' as a synonym of type is deprecated; in a future version of numpy, it will be understood as (type, (1,)) / '(1,)type'.\n",
      "  _np_qint16 = np.dtype([(\"qint16\", np.int16, 1)])\n",
      "/Users/bevan/anaconda3/lib/python3.7/site-packages/tensorflow/python/framework/dtypes.py:519: FutureWarning: Passing (type, 1) or '1type' as a synonym of type is deprecated; in a future version of numpy, it will be understood as (type, (1,)) / '(1,)type'.\n",
      "  _np_quint16 = np.dtype([(\"quint16\", np.uint16, 1)])\n",
      "/Users/bevan/anaconda3/lib/python3.7/site-packages/tensorflow/python/framework/dtypes.py:520: FutureWarning: Passing (type, 1) or '1type' as a synonym of type is deprecated; in a future version of numpy, it will be understood as (type, (1,)) / '(1,)type'.\n",
      "  _np_qint32 = np.dtype([(\"qint32\", np.int32, 1)])\n",
      "/Users/bevan/anaconda3/lib/python3.7/site-packages/tensorflow/python/framework/dtypes.py:525: FutureWarning: Passing (type, 1) or '1type' as a synonym of type is deprecated; in a future version of numpy, it will be understood as (type, (1,)) / '(1,)type'.\n",
      "  np_resource = np.dtype([(\"resource\", np.ubyte, 1)])\n"
     ]
    },
    {
     "name": "stdout",
     "output_type": "stream",
     "text": [
      "Using the following TensorFlow version:\n",
      "1.14.0\n",
      "--------------------------------------------\n",
      "Number of input features       =  1\n",
      "Number of output classes       =  1\n",
      "Number of examples to generate =  10000\n",
      "Learning rate            alpha =  0.001\n",
      "Number of training epochs      =  1000\n",
      "--------------------------------------------\n"
     ]
    },
    {
     "name": "stderr",
     "output_type": "stream",
     "text": [
      "/Users/bevan/anaconda3/lib/python3.7/site-packages/tensorboard/compat/tensorflow_stub/dtypes.py:541: FutureWarning: Passing (type, 1) or '1type' as a synonym of type is deprecated; in a future version of numpy, it will be understood as (type, (1,)) / '(1,)type'.\n",
      "  _np_qint8 = np.dtype([(\"qint8\", np.int8, 1)])\n",
      "/Users/bevan/anaconda3/lib/python3.7/site-packages/tensorboard/compat/tensorflow_stub/dtypes.py:542: FutureWarning: Passing (type, 1) or '1type' as a synonym of type is deprecated; in a future version of numpy, it will be understood as (type, (1,)) / '(1,)type'.\n",
      "  _np_quint8 = np.dtype([(\"quint8\", np.uint8, 1)])\n",
      "/Users/bevan/anaconda3/lib/python3.7/site-packages/tensorboard/compat/tensorflow_stub/dtypes.py:543: FutureWarning: Passing (type, 1) or '1type' as a synonym of type is deprecated; in a future version of numpy, it will be understood as (type, (1,)) / '(1,)type'.\n",
      "  _np_qint16 = np.dtype([(\"qint16\", np.int16, 1)])\n",
      "/Users/bevan/anaconda3/lib/python3.7/site-packages/tensorboard/compat/tensorflow_stub/dtypes.py:544: FutureWarning: Passing (type, 1) or '1type' as a synonym of type is deprecated; in a future version of numpy, it will be understood as (type, (1,)) / '(1,)type'.\n",
      "  _np_quint16 = np.dtype([(\"quint16\", np.uint16, 1)])\n",
      "/Users/bevan/anaconda3/lib/python3.7/site-packages/tensorboard/compat/tensorflow_stub/dtypes.py:545: FutureWarning: Passing (type, 1) or '1type' as a synonym of type is deprecated; in a future version of numpy, it will be understood as (type, (1,)) / '(1,)type'.\n",
      "  _np_qint32 = np.dtype([(\"qint32\", np.int32, 1)])\n",
      "/Users/bevan/anaconda3/lib/python3.7/site-packages/tensorboard/compat/tensorflow_stub/dtypes.py:550: FutureWarning: Passing (type, 1) or '1type' as a synonym of type is deprecated; in a future version of numpy, it will be understood as (type, (1,)) / '(1,)type'.\n",
      "  np_resource = np.dtype([(\"resource\", np.ubyte, 1)])\n"
     ]
    }
   ],
   "source": [
    "from __future__ import absolute_import\n",
    "from __future__ import division\n",
    "from __future__ import print_function\n",
    "\n",
    "import numpy as np\n",
    "import tensorflow as tf\n",
    "import matplotlib.pyplot as plt\n",
    "\n",
    "print(\"Using the following TensorFlow version:\")\n",
    "print(tf.__version__)\n",
    "# Network training parameters\n",
    "learning_rate    = 0.001\n",
    "training_epochs  = 1000\n",
    "min_x = -10\n",
    "max_x = 10\n",
    "Ngen  = 10000\n",
    "\n",
    "# Network architecture parameters\n",
    "n_input        = 1   # 1D function, so there is one input feature per example\n",
    "n_classes      = 1   # Regression output is single valued\n",
    "n_nodes_layer1 = 50  # 1st layer num features\n",
    "n_nodes_layer2 = 50  # 2nd layer num features\n",
    "noise          = 0.1 # add a noise term to simulate fluctuations in the data\n",
    "\n",
    "print(\"--------------------------------------------\")\n",
    "print(\"Number of input features       = \", n_input)\n",
    "print(\"Number of output classes       = \", n_classes)\n",
    "print(\"Number of examples to generate = \", Ngen)\n",
    "print(\"Learning rate            alpha = \", learning_rate)\n",
    "print(\"Number of training epochs      = \", training_epochs)\n",
    "print(\"--------------------------------------------\")"
   ]
  },
  {
   "cell_type": "markdown",
   "metadata": {},
   "source": [
    "The following cell sets up the graph to be evaluated. There are several parts to this cell:\n",
    "\n",
    "* The  Python function myFunctionTF defines the function that will be approximated. The argument type is a numpy array; and so the function converts the input feature (x) into the output feature (target) value (y).\n",
    "* Specify the placeholders x and y that will be used to feed data into the evaluation steps (optimisation, loss function and model prediction)\n",
    "* Construct the model - this is a single layer neural network consisting of 1 input, 50 nodes with a relu activation function and a single output constructed from the previous layer.\n",
    "* Use the L2 loss function (computed in a different way to the previous example) and the ADAM optimiser (see the notes on neural networks for this gradient descent algorithm.\n",
    "* Finally we set up the test and training data (we want to have statistically independent samples to work with for this example to study the training performance)."
   ]
  },
  {
   "cell_type": "code",
   "execution_count": 2,
   "metadata": {},
   "outputs": [
    {
     "name": "stdout",
     "output_type": "stream",
     "text": [
      "Creating a hidden layer with  50  nodes\n",
      "Creating a hidden layer with  50  nodes\n",
      "Creating the output layer  1  output values\n",
      "Using the L2 loss function implemented in tf.nn\n",
      "Using the Adam optimiser to train the network\n",
      "Generating the test and training sets.  There are  10000  examples in each\n"
     ]
    }
   ],
   "source": [
    "\n",
    "def myFunctionTF(arg):\n",
    "    \"\"\"\n",
    "    User defined function for the MLP to learn.  The default example is \n",
    "    the square function.  We also add noise to the data.\n",
    "    \n",
    "    Note that random_normal is deprecated in more recent TF APIs. See the \n",
    "    website for information.\n",
    "    \"\"\"\n",
    "    return myFunctionTF_true(arg)+noise*tf.random_normal([Ngen, 1])\n",
    "\n",
    "def myFunctionTF_true(arg):\n",
    "    \"\"\"\n",
    "    User defined function for the MLP to learn.  The default example is \n",
    "    the square function.\n",
    "    \"\"\"\n",
    "    return tf.square(arg)\n",
    "\n",
    "\n",
    "# tf Graph input:\n",
    "#  x: is the tensor for the input data (the placeholder entry None is used for that;\n",
    "#     and the number of features input (n_input = 1).\n",
    "#\n",
    "#  y: is the tensor for the output value of the function that is being approximated by \n",
    "#     the MLP.\n",
    "#\n",
    "x = tf.placeholder(tf.float32, [None, n_input], name=\"x\")\n",
    "y = tf.placeholder(tf.float32, [None, n_classes], name=\"y\")\n",
    "\n",
    "\n",
    "# We construct layer 1 from a weight set, a bias set and the activiation function used\n",
    "# to process the impulse set of features for a given example in order to produce a \n",
    "# predictive output for that example.\n",
    "#\n",
    "#  w_layer_1:    the weights for layer 1.  The first index is the input feature (pixel)\n",
    "#                and the second index is the node index for the perceptron in the first\n",
    "#                layer.\n",
    "#  bias_layer_1: the biases for layer 1.  There is a single bias for each node in the \n",
    "#                layer.\n",
    "#  layer_1:      the activation functions for layer 1\n",
    "#\n",
    "print(\"Creating a hidden layer with \", n_nodes_layer1, \" nodes\")\n",
    "w_layer_1    = tf.Variable(tf.random_normal([n_input, n_nodes_layer1]), name=\"weights_layer_1\")\n",
    "bias_layer_1 = tf.Variable(tf.random_normal([n_nodes_layer1]), name=\"bias_layer_1\")\n",
    "layer_1      = tf.nn.relu(tf.add(tf.matmul(x,w_layer_1),bias_layer_1))\n",
    "\n",
    "# repeat for layer 2\n",
    "print(\"Creating a hidden layer with \", n_nodes_layer2, \" nodes\")\n",
    "w_layer_2    = tf.Variable(tf.random_normal([n_nodes_layer1, n_nodes_layer2]), name=\"weights_layer_2\")\n",
    "bias_layer_2 = tf.Variable(tf.random_normal([n_nodes_layer2]), name=\"bias_layer_2\")\n",
    "layer_2      = tf.nn.relu(tf.add(tf.matmul(layer_1,w_layer_2),bias_layer_2))\n",
    "\n",
    "# Similarly we now construct the output of the network, where the output layer\n",
    "# combines the information down into a space of evidences for the possible\n",
    "# classes in the problem (n_classes=1 for this regression problem).\n",
    "print(\"Creating the output layer \", n_classes, \" output values\")\n",
    "output       = tf.Variable(tf.random_normal([n_nodes_layer2, n_classes]), name=\"weights_output\")\n",
    "bias_output  = tf.Variable(tf.random_normal([n_classes]), name=\"bias_output\")\n",
    "output_layer = tf.matmul(layer_2, output) + bias_output\n",
    "\n",
    "#optimise with l2 loss function\n",
    "print(\"Using the L2 loss function implemented in tf.nn\")\n",
    "loss = tf.nn.l2_loss(y - output_layer)\n",
    "\n",
    "# optimizer: take the Adam optimiser, see https://arxiv.org/pdf/1412.6980v8.pdf for\n",
    "# details of this algorithm.\n",
    "print(\"Using the Adam optimiser to train the network\")\n",
    "optimizer = tf.train.AdamOptimizer(learning_rate=learning_rate).minimize(loss)\n",
    "\n",
    "# generate data, the input data is a random number betwen 1 and 10,\n",
    "# and the corresponding label value is the square root of that number\n",
    "print(\"Generating the test and training sets.  There are \", Ngen, \" examples in each\")\n",
    "tftraindata = tf.random_uniform([Ngen, 1], min_x, max_x)  # training set\n",
    "tftestdata  = tf.random_uniform([Ngen, 1], min_x, max_x)  # test set\n",
    "\n",
    "\n",
    "# define operation for computing the regression output\n",
    "probabilities = output_layer\n",
    "\n",
    "# Initializing the variables\n",
    "init  = tf.global_variables_initializer()\n",
    "\n",
    "# Start the session to embark on the training cycle\n",
    "sess = tf.Session()\n",
    "sess.run(init)\n",
    "\n",
    "# convert the training data to np arrays so that these can be used with the feed_dict when training\n",
    "traindata  = sess.run(tftraindata) \n",
    "target_value = sess.run(myFunctionTF(traindata))\n",
    "\n",
    "# convert the test data to np arrays so that these can be used with the feed_dict when training and evaluating model performance\n",
    "testdata  = sess.run(tftestdata) \n",
    "test_value = sess.run(myFunctionTF(testdata))\n",
    "true_value = sess.run(myFunctionTF_true(testdata))\n",
    "\n"
   ]
  },
  {
   "cell_type": "markdown",
   "metadata": {},
   "source": [
    "The following cell will evaluate the model graph for the specified number of epochs.  \n",
    "\n",
    "For the last epoch we will use the model to make predictions over the range that the model was trained on, so that we can compare this to the input training data."
   ]
  },
  {
   "cell_type": "code",
   "execution_count": 3,
   "metadata": {},
   "outputs": [
    {
     "name": "stdout",
     "output_type": "stream",
     "text": [
      "Will run through  1000  training epochs\n",
      "  Training epoch number  0\n",
      "  Training epoch number  500\n",
      "Network training complete\n"
     ]
    }
   ],
   "source": [
    "# arrays to compare the input value vs the prediction\n",
    "input_value      = []\n",
    "epoch_set        = []\n",
    "loss_test_value  = []\n",
    "loss_set         = []\n",
    "prediction_value = []\n",
    "\n",
    "print(\"Will run through \", training_epochs, \" training epochs\")\n",
    "# Training cycle - for this example we do not batch train as this is a shallow network with \n",
    "# a low number of training events.\n",
    "for epoch in range(training_epochs):\n",
    "    the_loss = 0.\n",
    "    \n",
    "    if not (epoch % 500):\n",
    "        print(\"  Training epoch number \", epoch)\n",
    "    sess.run(optimizer, feed_dict={x: traindata, y: target_value})\n",
    "    the_loss = sess.run(loss, feed_dict={x: traindata, y: target_value})\n",
    "\n",
    "    loss_set.append(the_loss)\n",
    "    epoch_set.append(epoch+1)\n",
    "    \n",
    "    the_loss = sess.run(loss, feed_dict={x: testdata, y: test_value})\n",
    "    loss_test_value.append(the_loss)\n",
    "\n",
    "    #\n",
    "    # This is a regression analysis problem, so we want to evaluate and display the output_layer\n",
    "    # value (model response function), and not an output prediction (which would have been appropraite\n",
    "    # for a classification problem)\n",
    "    #\n",
    "    if epoch == training_epochs-1:\n",
    "        step = (max_x - min_x)/100\n",
    "        for i in range(100):\n",
    "            thisx = min_x + i*step\n",
    "            pred = probabilities.eval(feed_dict={x: [[thisx]]}, session=sess)\n",
    "            #print (\"x = \", thisx, \", prediction =\", pred)\n",
    "            input_value.append(thisx)\n",
    "            prediction_value.append(pred[0])\n",
    "\n",
    "            pred = probabilities.eval(feed_dict={x: [[-thisx]]}, session=sess)\n",
    "            #print (\"x = \", -thisx, \", prediction =\", pred)\n",
    "            input_value.append(-thisx)\n",
    "            prediction_value.append(pred[0])\n",
    "            \n",
    "print(\"Network training complete\")"
   ]
  },
  {
   "cell_type": "markdown",
   "metadata": {},
   "source": [
    "Having trained the network we will want to look at the output in terms of:\n",
    " * model prediction (red) relative to the ideal solution (blue)\n",
    " * the corresponding evolution of the loss functon for the test (red) and train (blue) data\n",
    " * the difference in loss function between the train and test sample as a function of epoch.\n",
    " \n",
    "The model prediction will be close to the ideal solution in general. There may be some discrepancies (especially at the extremitites of the distributon).  The level of agreement depends on the hyper parameters related to the network optimisation.  Try changing these to see how the performance of the learned network changes.\n",
    "\n",
    "The optimised result is just the \"best fit\" value of the function f(x) = f(x) given by the network. The function g(x) is a matrix equation given by $g(x) = ReLU(w_1^T \\cdot x + b_1)$, where each row of the matrix equation corresponds to a single node processed by a ReLU activation function. The column matrix resulting from $w_1^T \\cdot x + b_1$ allows us to compute the ReLU activation function on all nodes in order to compute the input for the output node.  This output node computes $f(x) = w_2^T \\cdot g(x) + b_2$.  Here the subscript 1 and 2 refers to (1) the mapping of the input feature space to the 50 nodes in the network followed by (2) the mapping from the 50 nodes to the single output node."
   ]
  },
  {
   "cell_type": "code",
   "execution_count": 4,
   "metadata": {},
   "outputs": [
    {
     "name": "stdout",
     "output_type": "stream",
     "text": [
      "Note\n",
      "  The blue line is the true values of the funciton that the NN has learned to approximate.\n",
      "  The red line is the function learned.\n",
      "  Deviations between the blue and red line are errors in the modeling\n"
     ]
    },
    {
     "data": {
      "text/plain": [
       "Text(0.5, 1.0, 'Network Response Function')"
      ]
     },
     "execution_count": 4,
     "metadata": {},
     "output_type": "execute_result"
    },
    {
     "data": {
      "image/png": "[encoded data removed]",
      "text/plain": [
       "<Figure size 432x288 with 1 Axes>"
      ]
     },
     "metadata": {
      "needs_background": "light"
     },
     "output_type": "display_data"
    }
   ],
   "source": [
    "print(\"Note\\n  The blue line is the true values of the funciton that the NN has learned to approximate.\")\n",
    "print(\"  The red line is the function learned.\")\n",
    "print(\"  Deviations between the blue and red line are errors in the modeling\")\n",
    "\n",
    "plt.plot(testdata, true_value, 'b.')\n",
    "plt.ylabel('f(x) = x^2')\n",
    "plt.xlabel('x')\n",
    "plt.title('Test data')\n",
    "plt.plot(input_value, prediction_value, 'r*')\n",
    "plt.ylabel('f(x) = x^2')\n",
    "plt.xlabel('x')\n",
    "plt.title('Network Response Function')"
   ]
  },
  {
   "cell_type": "code",
   "execution_count": 5,
   "metadata": {},
   "outputs": [
    {
     "name": "stdout",
     "output_type": "stream",
     "text": [
      "The loss vs epoch is plotted below, where the blue is train data, and red test data\n"
     ]
    },
    {
     "data": {
      "text/plain": [
       "Text(0.5, 0, 'epoch')"
      ]
     },
     "execution_count": 5,
     "metadata": {},
     "output_type": "execute_result"
    },
    {
     "data": {
      "image/png": "[encoded data removed]",
      "text/plain": [
       "<Figure size 432x288 with 1 Axes>"
      ]
     },
     "metadata": {
      "needs_background": "light"
     },
     "output_type": "display_data"
    }
   ],
   "source": [
    "print(\"The loss vs epoch is plotted below, where the blue is train data, and red test data\")\n",
    "\n",
    "# for log plots comment out the following\n",
    "plt.plot(epoch_set, loss_set, 'o', label='MLP Training phase')\n",
    "plt.plot(epoch_set, loss_test_value, 'rx', label='MLP Training phase')\n",
    "# For log plots uncomment the following\n",
    "#plt.semilogy(epoch_set, loss_set, 'o', label='MLP Training phase')\n",
    "#plt.semilogy(epoch_set, loss_test_value, 'rx', label='MLP Training phase')\n",
    "plt.grid(True)\n",
    "plt.ylabel('loss')\n",
    "plt.xlabel('epoch')"
   ]
  },
  {
   "cell_type": "code",
   "execution_count": 7,
   "metadata": {},
   "outputs": [
    {
     "name": "stdout",
     "output_type": "stream",
     "text": [
      "The difference between the loss function value for the test and train data is used\n",
      "as a measure of the training.  If the train data diverges signficiantly from the test\n",
      "data loss function value then the network is overtrained\n"
     ]
    },
    {
     "data": {
      "text/plain": [
       "Text(0.5, 0, 'epoch')"
      ]
     },
     "execution_count": 7,
     "metadata": {},
     "output_type": "execute_result"
    },
    {
     "data": {
      "image/png": "[encoded data removed]",
      "text/plain": [
       "<Figure size 432x288 with 1 Axes>"
      ]
     },
     "metadata": {
      "needs_background": "light"
     },
     "output_type": "display_data"
    }
   ],
   "source": [
    "print(\"The difference between the loss function value for the test and train data is used\")\n",
    "print(\"as a measure of the training.  If the train data diverges signficiantly from the test\")\n",
    "print(\"data loss function value then the network is overtrained\")\n",
    "\n",
    "delta = np.subtract(loss_test_value, loss_set)\n",
    "plt.semilogy(epoch_set, np.absolute(delta), 'o', label='MLP Training phase')\n",
    "plt.grid(True)\n",
    "plt.ylabel('$\\Delta$ loss')\n",
    "plt.xlabel('epoch')"
   ]
  },
  {
   "cell_type": "markdown",
   "metadata": {},
   "source": [
    "Now that you have run through the FunctionApproximation2 notebook you may wish to adapt your network to use different activation functions, train for more epochs or to add more hidden layers.  These are just a few sugggestions to allow you to explore and adapt the code."
   ]
  },
  {
   "cell_type": "code",
   "execution_count": null,
   "metadata": {},
   "outputs": [],
   "source": []
  }
 ],
 "metadata": {
  "kernelspec": {
   "display_name": "Python 3",
   "language": "python",
   "name": "python3"
  },
  "language_info": {
   "codemirror_mode": {
    "name": "ipython",
    "version": 3
   },
   "file_extension": ".py",
   "mimetype": "text/x-python",
   "name": "python",
   "nbconvert_exporter": "python",
   "pygments_lexer": "ipython3",
   "version": "3.7.3"
  }
 },
 "nbformat": 4,
 "nbformat_minor": 4
}
